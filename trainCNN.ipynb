{
 "cells": [
  {
   "cell_type": "code",
   "execution_count": 11,
   "metadata": {},
   "outputs": [],
   "source": [
    "import sys\n",
    "import tensorflow as tf\n",
    "import keras\n",
    "from keras.models import Model\n",
    "from keras.callbacks import EarlyStopping\n",
    "from keras.layers import Input, Conv2D, MaxPooling2D, Flatten, Dense, Dropout, BatchNormalization, Concatenate\n",
    "from keras import optimizers\n",
    "import os\n",
    "import numpy as np\n",
    "import pandas as pd\n",
    "import matplotlib.pyplot as plt\n",
    "\n",
    "from keras import backend as K\n",
    "from tqdm import tqdm\n",
    "from numpy.linalg import eig\n",
    "from sklearn.decomposition import PCA\n",
    "\n",
    "# reserve only the 30% of the GPU memory\n",
    "from keras.backend.tensorflow_backend import set_session\n",
    "config = tf.ConfigProto()\n",
    "config.gpu_options.per_process_gpu_memory_fraction = 0.3\n",
    "set_session(tf.Session(config=config))"
   ]
  },
  {
   "cell_type": "code",
   "execution_count": 7,
   "metadata": {},
   "outputs": [],
   "source": [
    "batch_size = 512\n",
    "width = 50\n",
    "height = 10\n",
    "channels = 4 #3\n",
    "classes = 4\n",
    "epochs = 100\n",
    "dataset_dir = '/data/user/adipilat/ParticleID/genEvts/'\n",
    "save_dir = '/data/user/adipilat/ParticleID/models/'\n",
    "sample_dir = '/data/user/adipilat/ParticleID/sample_images/'\n",
    "padding = 'padding' + str(height)\n",
    "model_name= padding +'_PCAModel'\n",
    "history_name = model_name + '_history'\n",
    "\n",
    "# This dictionary should be extended to new classes and antiparticles\n",
    "class_labels = {22:0, 11:1, 13:2, 211:3}"
   ]
  },
  {
   "cell_type": "code",
   "execution_count": 9,
   "metadata": {},
   "outputs": [
    {
     "name": "stderr",
     "output_type": "stream",
     "text": [
      "\r",
      "  0%|          | 0/4 [00:00<?, ?it/s]"
     ]
    },
    {
     "name": "stdout",
     "output_type": "stream",
     "text": [
      "Reading file gamma.h5\n"
     ]
    },
    {
     "name": "stderr",
     "output_type": "stream",
     "text": [
      "\r",
      " 25%|██▌       | 1/4 [16:14<48:42, 974.27s/it]"
     ]
    },
    {
     "name": "stdout",
     "output_type": "stream",
     "text": [
      "File gamma.h5  processed\n",
      "Reading file electron.h5\n"
     ]
    },
    {
     "name": "stderr",
     "output_type": "stream",
     "text": [
      "\r",
      " 50%|█████     | 2/4 [33:02<32:48, 984.46s/it]"
     ]
    },
    {
     "name": "stdout",
     "output_type": "stream",
     "text": [
      "File electron.h5  processed\n",
      "Reading file muon.h5\n"
     ]
    },
    {
     "name": "stderr",
     "output_type": "stream",
     "text": [
      "\r",
      " 75%|███████▌  | 3/4 [38:32<13:08, 788.09s/it]"
     ]
    },
    {
     "name": "stdout",
     "output_type": "stream",
     "text": [
      "File muon.h5  processed\n",
      "Reading file pion_c.h5\n"
     ]
    },
    {
     "name": "stderr",
     "output_type": "stream",
     "text": [
      "\r",
      "100%|██████████| 4/4 [57:10<00:00, 887.24s/it]"
     ]
    },
    {
     "name": "stdout",
     "output_type": "stream",
     "text": [
      "File pion_c.h5  processed\n"
     ]
    },
    {
     "name": "stderr",
     "output_type": "stream",
     "text": [
      "\n"
     ]
    }
   ],
   "source": [
    "# arrays of data needed for training\n",
    "\n",
    "data_array = []\n",
    "pid_array = []\n",
    "en_array = []\n",
    "\n",
    "# read dataset\n",
    "files = [f for f in os.listdir(dataset_dir) if f.endswith(\"h5\")]\n",
    "\n",
    "for name in tqdm(files):\n",
    "    print(\"Reading file\", name)\n",
    "    data = pd.read_hdf(dataset_dir + name)\n",
    "    n_events = int(0.9 * data.event.max()) # using 90% of events for training\n",
    "\n",
    "    for i in range(1, int(n_events+1)):\n",
    "        tracksters = data.loc[(data['event'] == float(i)) & (data['trackster'] != float(0))]\n",
    "        n_tracksters = tracksters.trackster.max()\n",
    "        lead_en = 0\n",
    "        for j in range(1, int(n_tracksters)+1):\n",
    "            layerclusters = tracksters.loc[tracksters['trackster'] == float(j)]\n",
    "            en = np.sum(layerclusters[\"E\"].values)\n",
    "            if(en>lead_en): #### since I shooted a single particle, only the leading trackster is considered\n",
    "                lead_en = en\n",
    "                image = np.zeros(width*height*channels).reshape(width,height,channels)\n",
    "                pid = int(layerclusters[\"pid\"].iloc[0])\n",
    "                pid = class_labels[pid]\n",
    "                en_value = layerclusters[\"genE\"].iloc[0]\n",
    "                for k in range(1, width+1):\n",
    "                    layer = layerclusters[layerclusters['layer'] == float(k)]\n",
    "                    if(len(layer) != 0):\n",
    "                        temp = layer.E.values, layer.eta.values, layer.phi.values\n",
    "                        temp = np.array(temp).T\n",
    "                        dim = min(temp.shape[0],height)\n",
    "                        image[k-1][:dim] = temp[:dim]\n",
    "        data_array.append(image)\n",
    "        pid_array.append(pid)\n",
    "        en_array.append(en_value)    \n",
    "\n",
    "    print(\"File\", name, \" processed\")\n",
    "\n",
    "data_array = np.array(data_array)\n",
    "pid_array = np.array(pid_array)\n",
    "pid_array = keras.utils.to_categorical(pid_array, num_classes=classes, dtype='float32')\n",
    "en_array = np.array(en_array)"
   ]
  },
  {
   "cell_type": "code",
   "execution_count": 10,
   "metadata": {},
   "outputs": [
    {
     "name": "stdout",
     "output_type": "stream",
     "text": [
      "(36000, 50, 10, 4)\n"
     ]
    }
   ],
   "source": [
    "print(data_array.shape)\n",
    "# print(en_array.shape)\n",
    "# print(pid_array.shape)\n",
    "# print(data_array)"
   ]
  },
  {
   "cell_type": "code",
   "execution_count": 6,
   "metadata": {},
   "outputs": [
    {
     "name": "stdout",
     "output_type": "stream",
     "text": [
      "Mean Energy Value: 213.90352475881576\n",
      "Std Energy Value: 108.05413626100672\n"
     ]
    }
   ],
   "source": [
    "####### NORMALIZE THE ENERGY ########\n",
    "\n",
    "mean_en = np.mean(en_array)\n",
    "std_en = np.std(en_array)\n",
    "print('Mean Energy Value: {}'.format(mean_en))\n",
    "print('Std Energy Value: {}'.format(std_en))\n",
    "\n",
    "en_array_norm = (en_array - mean_en)/std_en"
   ]
  },
  {
   "cell_type": "code",
   "execution_count": 44,
   "metadata": {},
   "outputs": [
    {
     "name": "stdout",
     "output_type": "stream",
     "text": [
      "Creating model...\n",
      "__________________________________________________________________________________________________\n",
      "Layer (type)                    Output Shape         Param #     Connected to                     \n",
      "==================================================================================================\n",
      "input (InputLayer)              (None, 50, 10, 3)    0                                            \n",
      "__________________________________________________________________________________________________\n",
      "conv1 (Conv2D)                  (None, 50, 10, 3)    48          input[0][0]                      \n",
      "__________________________________________________________________________________________________\n",
      "conv2 (Conv2D)                  (None, 50, 10, 3)    84          conv1[0][0]                      \n",
      "__________________________________________________________________________________________________\n",
      "conv3 (Conv2D)                  (None, 50, 10, 3)    84          conv2[0][0]                      \n",
      "__________________________________________________________________________________________________\n",
      "flatten_11 (Flatten)            (None, 1500)         0           conv3[0][0]                      \n",
      "__________________________________________________________________________________________________\n",
      "dense1 (Dense)                  (None, 512)          768512      flatten_11[0][0]                 \n",
      "__________________________________________________________________________________________________\n",
      "dense2 (Dense)                  (None, 128)          65664       dense1[0][0]                     \n",
      "__________________________________________________________________________________________________\n",
      "dense_id1 (Dense)               (None, 64)           8256        dense2[0][0]                     \n",
      "__________________________________________________________________________________________________\n",
      "dense_er1 (Dense)               (None, 64)           8256        dense2[0][0]                     \n",
      "__________________________________________________________________________________________________\n",
      "dense_id2 (Dense)               (None, 16)           1040        dense_id1[0][0]                  \n",
      "__________________________________________________________________________________________________\n",
      "dense_er2 (Dense)               (None, 16)           1040        dense_er1[0][0]                  \n",
      "__________________________________________________________________________________________________\n",
      "dense_er_pid (Dense)            (None, 4)            68          dense_id2[0][0]                  \n",
      "__________________________________________________________________________________________________\n",
      "dense_er3 (Dense)               (None, 1)            17          dense_er2[0][0]                  \n",
      "__________________________________________________________________________________________________\n",
      "concatenate_11 (Concatenate)    (None, 5)            0           dense_er_pid[0][0]               \n",
      "                                                                 dense_er3[0][0]                  \n",
      "__________________________________________________________________________________________________\n",
      "batch_normalization_3 (BatchNor (None, 5)            20          concatenate_11[0][0]             \n",
      "__________________________________________________________________________________________________\n",
      "pid_output (Dense)              (None, 4)            68          dense_id2[0][0]                  \n",
      "__________________________________________________________________________________________________\n",
      "enreg_output (Dense)            (None, 1)            6           batch_normalization_3[0][0]      \n",
      "==================================================================================================\n",
      "Total params: 853,163\n",
      "Trainable params: 853,153\n",
      "Non-trainable params: 10\n",
      "__________________________________________________________________________________________________\n",
      "Model created!\n"
     ]
    }
   ],
   "source": [
    "print('Creating model...')\n",
    "\n",
    "def tree_model():\n",
    "\n",
    "    input_img = Input(shape=(width, height, channels), name='input')\n",
    "    \n",
    "    conv = Conv2D(3, (5,1), activation='relu', padding='same', kernel_initializer='random_uniform', data_format='channels_last', name='conv1')(input_img)\n",
    "    conv = Conv2D(3, (3,3), activation='relu', padding='same', kernel_initializer='random_uniform', data_format='channels_last', name='conv2')(conv)\n",
    "    conv = Conv2D(3, (3,3), activation='relu', padding='same', kernel_initializer='random_uniform', data_format='channels_last', name='conv3')(conv)\n",
    "\n",
    "    flat = Flatten()(conv)\n",
    "\n",
    "    dense = Dense(512, activation='relu', kernel_initializer='random_uniform', name='dense1')(flat)\n",
    "#     drop = Dropout(0.5)(dense)\n",
    "    dense = Dense(128, activation='relu', kernel_initializer='random_uniform', name='dense2')(dense)\n",
    "#     drop = Dropout(0.5)(dense)\n",
    "#     dense = Dense(256, activation='relu', kernel_initializer='random_uniform', name='dense3')(drop)\n",
    "\n",
    "    dense_id = Dense(64, activation='relu', kernel_initializer='random_uniform', name='dense_id1')(dense)\n",
    "#     drop = Dropout(0.5)(dense_id)\n",
    "    dense_id = Dense(16, activation='relu', kernel_initializer='random_uniform', name='dense_id2')(dense_id)\n",
    "#     drop = Dropout(0.5)(dense_id)\n",
    "\n",
    "    pid = Dense(classes, activation='softmax', kernel_initializer='random_uniform', name='pid_output')(dense_id)\n",
    "\n",
    "    dense_er = Dense(64, activation='relu', kernel_initializer='random_uniform', name='dense_er1')(dense)\n",
    "    dense_er = Dense(16, activation='relu', kernel_initializer='random_uniform', name='dense_er2')(dense_er)\n",
    "\n",
    "    dense_er_pid = Dense(classes, name='dense_er_pid')(dense_id)\n",
    "    \n",
    "    dense_er = Dense(1, name='dense_er3')(dense_er)\n",
    "    \n",
    "    conc = Concatenate()([dense_er_pid, dense_er])\n",
    "    bnorm = BatchNormalization()(conc)\n",
    "    enreg = Dense(1, name='enreg_output')(bnorm) #(dense_er)\n",
    "\n",
    "    model = Model(inputs=input_img, outputs=[pid, enreg])\n",
    "\n",
    "    model.compile(loss={'pid_output': 'categorical_crossentropy', 'enreg_output': 'mse'}, loss_weights={'pid_output': 1, 'enreg_output': 1}, optimizer='adam', metrics={'pid_output': 'accuracy', 'enreg_output': 'mse'})\n",
    "    return model\n",
    "\n",
    "model = tree_model()\n",
    "model.summary()\n",
    "\n",
    "print(\"Model created!\")"
   ]
  },
  {
   "cell_type": "code",
   "execution_count": 45,
   "metadata": {},
   "outputs": [
    {
     "name": "stdout",
     "output_type": "stream",
     "text": [
      "Train on 32400 samples, validate on 3600 samples\n",
      "Epoch 1/100\n",
      "32400/32400 [==============================] - 4s 109us/step - loss: 1.9713 - pid_output_loss: 1.3814 - enreg_output_loss: 0.5898 - pid_output_acc: 0.2696 - enreg_output_mean_squared_error: 0.5898 - val_loss: 2.1349 - val_pid_output_loss: 1.4822 - val_enreg_output_loss: 0.6526 - val_pid_output_acc: 0.0000e+00 - val_enreg_output_mean_squared_error: 0.6526\n",
      "Epoch 2/100\n",
      "32400/32400 [==============================] - 1s 31us/step - loss: 1.7220 - pid_output_loss: 1.3703 - enreg_output_loss: 0.3517 - pid_output_acc: 0.3490 - enreg_output_mean_squared_error: 0.3517 - val_loss: 2.3659 - val_pid_output_loss: 1.5976 - val_enreg_output_loss: 0.7683 - val_pid_output_acc: 0.0000e+00 - val_enreg_output_mean_squared_error: 0.7683\n",
      "Epoch 3/100\n",
      "32400/32400 [==============================] - 1s 30us/step - loss: 1.6646 - pid_output_loss: 1.3330 - enreg_output_loss: 0.3316 - pid_output_acc: 0.5165 - enreg_output_mean_squared_error: 0.3316 - val_loss: 5.8932 - val_pid_output_loss: 1.7542 - val_enreg_output_loss: 4.1390 - val_pid_output_acc: 0.0000e+00 - val_enreg_output_mean_squared_error: 4.1390\n",
      "Epoch 4/100\n",
      "32400/32400 [==============================] - 1s 29us/step - loss: 1.2035 - pid_output_loss: 0.8680 - enreg_output_loss: 0.3355 - pid_output_acc: 0.5674 - enreg_output_mean_squared_error: 0.3355 - val_loss: 23.1228 - val_pid_output_loss: 1.0160 - val_enreg_output_loss: 22.1068 - val_pid_output_acc: 0.8167 - val_enreg_output_mean_squared_error: 22.1068\n",
      "Epoch 5/100\n",
      "32400/32400 [==============================] - 1s 33us/step - loss: 0.7976 - pid_output_loss: 0.4715 - enreg_output_loss: 0.3261 - pid_output_acc: 0.7142 - enreg_output_mean_squared_error: 0.3261 - val_loss: 4.6424 - val_pid_output_loss: 0.1735 - val_enreg_output_loss: 4.4689 - val_pid_output_acc: 0.9506 - val_enreg_output_mean_squared_error: 4.4689\n",
      "Epoch 6/100\n",
      "32400/32400 [==============================] - 1s 29us/step - loss: 0.7605 - pid_output_loss: 0.4435 - enreg_output_loss: 0.3171 - pid_output_acc: 0.7282 - enreg_output_mean_squared_error: 0.3171 - val_loss: 1.2398 - val_pid_output_loss: 0.1984 - val_enreg_output_loss: 1.0414 - val_pid_output_acc: 0.9422 - val_enreg_output_mean_squared_error: 1.0414\n",
      "Epoch 7/100\n",
      "32400/32400 [==============================] - 1s 31us/step - loss: 0.7464 - pid_output_loss: 0.4361 - enreg_output_loss: 0.3103 - pid_output_acc: 0.7372 - enreg_output_mean_squared_error: 0.3103 - val_loss: 0.5811 - val_pid_output_loss: 0.1410 - val_enreg_output_loss: 0.4401 - val_pid_output_acc: 0.9558 - val_enreg_output_mean_squared_error: 0.4401\n",
      "Epoch 8/100\n",
      "32400/32400 [==============================] - 1s 32us/step - loss: 0.7386 - pid_output_loss: 0.4309 - enreg_output_loss: 0.3077 - pid_output_acc: 0.7501 - enreg_output_mean_squared_error: 0.3077 - val_loss: 0.3536 - val_pid_output_loss: 0.1452 - val_enreg_output_loss: 0.2085 - val_pid_output_acc: 0.9611 - val_enreg_output_mean_squared_error: 0.2085\n",
      "Epoch 9/100\n",
      "32400/32400 [==============================] - 1s 32us/step - loss: 0.7321 - pid_output_loss: 0.4267 - enreg_output_loss: 0.3054 - pid_output_acc: 0.7552 - enreg_output_mean_squared_error: 0.3054 - val_loss: 0.3255 - val_pid_output_loss: 0.1457 - val_enreg_output_loss: 0.1797 - val_pid_output_acc: 0.9569 - val_enreg_output_mean_squared_error: 0.1797\n",
      "Epoch 10/100\n",
      "32400/32400 [==============================] - 1s 32us/step - loss: 0.7251 - pid_output_loss: 0.4237 - enreg_output_loss: 0.3014 - pid_output_acc: 0.7563 - enreg_output_mean_squared_error: 0.3014 - val_loss: 0.2845 - val_pid_output_loss: 0.1709 - val_enreg_output_loss: 0.1136 - val_pid_output_acc: 0.9517 - val_enreg_output_mean_squared_error: 0.1136\n",
      "Epoch 11/100\n",
      "32400/32400 [==============================] - 1s 32us/step - loss: 0.7229 - pid_output_loss: 0.4223 - enreg_output_loss: 0.3006 - pid_output_acc: 0.7556 - enreg_output_mean_squared_error: 0.3006 - val_loss: 0.3002 - val_pid_output_loss: 0.1714 - val_enreg_output_loss: 0.1288 - val_pid_output_acc: 0.9472 - val_enreg_output_mean_squared_error: 0.1288\n",
      "Epoch 12/100\n",
      "32400/32400 [==============================] - 1s 30us/step - loss: 0.7192 - pid_output_loss: 0.4197 - enreg_output_loss: 0.2995 - pid_output_acc: 0.7639 - enreg_output_mean_squared_error: 0.2995 - val_loss: 0.3257 - val_pid_output_loss: 0.1665 - val_enreg_output_loss: 0.1592 - val_pid_output_acc: 0.9519 - val_enreg_output_mean_squared_error: 0.1592\n",
      "Epoch 13/100\n",
      "32400/32400 [==============================] - 1s 31us/step - loss: 0.7163 - pid_output_loss: 0.4189 - enreg_output_loss: 0.2974 - pid_output_acc: 0.7623 - enreg_output_mean_squared_error: 0.2974 - val_loss: 0.1938 - val_pid_output_loss: 0.1136 - val_enreg_output_loss: 0.0802 - val_pid_output_acc: 0.9678 - val_enreg_output_mean_squared_error: 0.0802\n",
      "Epoch 14/100\n",
      "32400/32400 [==============================] - 1s 30us/step - loss: 0.7123 - pid_output_loss: 0.4166 - enreg_output_loss: 0.2956 - pid_output_acc: 0.7634 - enreg_output_mean_squared_error: 0.2956 - val_loss: 0.2637 - val_pid_output_loss: 0.1830 - val_enreg_output_loss: 0.0807 - val_pid_output_acc: 0.9531 - val_enreg_output_mean_squared_error: 0.0807\n",
      "Epoch 15/100\n",
      "32400/32400 [==============================] - 1s 31us/step - loss: 0.7085 - pid_output_loss: 0.4157 - enreg_output_loss: 0.2928 - pid_output_acc: 0.7660 - enreg_output_mean_squared_error: 0.2928 - val_loss: 0.2158 - val_pid_output_loss: 0.1310 - val_enreg_output_loss: 0.0848 - val_pid_output_acc: 0.9633 - val_enreg_output_mean_squared_error: 0.0848\n",
      "Epoch 16/100\n",
      "32400/32400 [==============================] - 1s 30us/step - loss: 0.7075 - pid_output_loss: 0.4134 - enreg_output_loss: 0.2941 - pid_output_acc: 0.7675 - enreg_output_mean_squared_error: 0.2941 - val_loss: 0.2344 - val_pid_output_loss: 0.1367 - val_enreg_output_loss: 0.0976 - val_pid_output_acc: 0.9633 - val_enreg_output_mean_squared_error: 0.0976\n",
      "Epoch 17/100\n",
      "32400/32400 [==============================] - 1s 29us/step - loss: 0.7042 - pid_output_loss: 0.4124 - enreg_output_loss: 0.2918 - pid_output_acc: 0.7688 - enreg_output_mean_squared_error: 0.2918 - val_loss: 0.2331 - val_pid_output_loss: 0.1598 - val_enreg_output_loss: 0.0733 - val_pid_output_acc: 0.9575 - val_enreg_output_mean_squared_error: 0.0733\n",
      "Epoch 18/100\n",
      "32400/32400 [==============================] - 1s 30us/step - loss: 0.7054 - pid_output_loss: 0.4126 - enreg_output_loss: 0.2929 - pid_output_acc: 0.7671 - enreg_output_mean_squared_error: 0.2929 - val_loss: 0.2819 - val_pid_output_loss: 0.1451 - val_enreg_output_loss: 0.1368 - val_pid_output_acc: 0.9553 - val_enreg_output_mean_squared_error: 0.1368\n",
      "Restoring model weights from the end of the best epoch\n",
      "Epoch 00018: early stopping\n"
     ]
    }
   ],
   "source": [
    "history = model.fit(data_array, {'pid_output': pid_array, 'enreg_output': en_array_norm}, batch_size=batch_size, epochs=epochs, validation_split=0.1, callbacks=[EarlyStopping(monitor='val_loss', patience=5, verbose=1, restore_best_weights=True)], shuffle=True, verbose=1)\n",
    "history_save = pd.DataFrame(history.history).to_hdf(save_dir + history_name + \".h5\", \"history\", append=False)"
   ]
  },
  {
   "cell_type": "code",
   "execution_count": 46,
   "metadata": {},
   "outputs": [
    {
     "name": "stdout",
     "output_type": "stream",
     "text": [
      "Saved trained model at /data/user/adipilat/ParticleID/models/ \n"
     ]
    }
   ],
   "source": [
    "# Save model and weights\n",
    "model.save(save_dir + model_name + \".h5\")\n",
    "print('Saved trained model at %s ' % save_dir)"
   ]
  },
  {
   "cell_type": "code",
   "execution_count": 47,
   "metadata": {},
   "outputs": [
    {
     "name": "stdout",
     "output_type": "stream",
     "text": [
      "INFO:tensorflow:Froze 944 variables.\n",
      "INFO:tensorflow:Converted 944 variables to const ops.\n",
      "Model saved\n"
     ]
    }
   ],
   "source": [
    "# save the frozen model\n",
    "def freeze_session(session, keep_var_names=None, output_names=None, clear_devices=True):\n",
    "    from tensorflow.python.framework.graph_util import convert_variables_to_constants\n",
    "    graph = session.graph\n",
    "    with graph.as_default():\n",
    "        freeze_var_names = list(set(v.op.name for v in tf.global_variables()).difference(keep_var_names or []))\n",
    "        output_names = output_names or []\n",
    "        output_names += [v.op.name for v in tf.global_variables()]\n",
    "        input_graph_def = graph.as_graph_def()\n",
    "        if clear_devices:\n",
    "            for node in input_graph_def.node:\n",
    "                node.device = \"\"\n",
    "        frozen_graph = convert_variables_to_constants(session, input_graph_def,\n",
    "                                                      output_names, freeze_var_names)\n",
    "        return frozen_graph\n",
    "\n",
    "frozen_graph = freeze_session(K.get_session(),\n",
    "                              output_names=[out.op.name for out in model.outputs])\n",
    "tf.train.write_graph(frozen_graph, save_dir, model_name + \".pbtxt\", as_text=True)\n",
    "tf.train.write_graph(frozen_graph, save_dir, model_name + \".pb\", as_text=False)\n",
    "print('Model saved')"
   ]
  },
  {
   "cell_type": "code",
   "execution_count": 48,
   "metadata": {},
   "outputs": [
    {
     "name": "stdout",
     "output_type": "stream",
     "text": [
      "Done!\n"
     ]
    }
   ],
   "source": [
    "print(\"Done!\")"
   ]
  },
  {
   "cell_type": "code",
   "execution_count": null,
   "metadata": {},
   "outputs": [],
   "source": [
    "num = 0\n",
    "class_names = np.array(['γ', 'e$^{-}$', 'μ$^{-}$', 'π$^{+}$'])\n",
    "sample = data_array[num,:,:,0]\n",
    "sample = np.ma.masked_where(sample == 0, sample)\n",
    "cmap = plt.cm.YlOrRd_r\n",
    "cmap.set_bad(color='black')\n",
    "plt.imshow(sample.T, cmap=cmap)\n",
    "plt.colorbar(label=\"Energy (GeV)\")\n",
    "partID = class_names[np.argmax(pid_array[num])]\n",
    "print(en_array[num])\n",
    "print(pid_array[num])\n",
    "plot_title = partID + ' (E = ' + str('%.2f'%en_array[num]) + ' GeV)'\n",
    "print(plot_title)\n",
    "plt.title(plot_title) \n",
    "# plt.savefig(sample_dir + padding + '_' + str(num) + '.pdf', format='pdf')"
   ]
  },
  {
   "cell_type": "code",
   "execution_count": 11,
   "metadata": {},
   "outputs": [
    {
     "name": "stdout",
     "output_type": "stream",
     "text": [
      "Number of Epochs:  [ 1  2  3  4  5  6  7  8  9 10 11 12 13 14]\n"
     ]
    }
   ],
   "source": [
    "val_loss = history.history['val_loss']\n",
    "val_pid_loss = history.history['val_pid_output_loss']\n",
    "val_en_loss = history.history['val_enreg_output_loss']\n",
    "val_pid_acc = history.history['val_pid_output_acc']\n",
    "train_loss = history.history['loss']\n",
    "train_pid_loss = history.history['pid_output_loss']\n",
    "train_en_loss = history.history['enreg_output_loss']\n",
    "train_pid_acc = history.history['pid_output_acc']\n",
    "\n",
    "n_epochs = len(val_loss)\n",
    "n_epochs = np.arange(1, n_epochs+1)\n",
    "print(\"Number of Epochs: \", n_epochs)"
   ]
  },
  {
   "cell_type": "code",
   "execution_count": 12,
   "metadata": {},
   "outputs": [
    {
     "name": "stderr",
     "output_type": "stream",
     "text": [
      "/data/user/adipilat/anaconda3/lib/python3.6/site-packages/matplotlib/figure.py:459: UserWarning: matplotlib is currently using a non-GUI backend, so cannot show the figure\n",
      "  \"matplotlib is currently using a non-GUI backend, \"\n"
     ]
    },
    {
     "data": {
      "image/png": "[encoded data removed]",
      "text/plain": [
       "<Figure size 432x288 with 1 Axes>"
      ]
     },
     "metadata": {},
     "output_type": "display_data"
    }
   ],
   "source": [
    "fig5 = plt.figure(5)\n",
    "plt.plot(n_epochs, train_pid_acc, '-b', label='Training')\n",
    "plt.plot(n_epochs, val_pid_acc, '-r', label='Validation')\n",
    "\n",
    "plt.title('Model PID accuracy', y=1.04)\n",
    "plt.grid(linestyle=':')\n",
    "plt.xlabel('Epoch', labelpad=8, fontsize=14)\n",
    "plt.ylabel('Accuracy', labelpad=10, fontsize=14)\n",
    "plt.legend(loc='lower right')\n",
    "fig5.show()"
   ]
  },
  {
   "cell_type": "code",
   "execution_count": 13,
   "metadata": {},
   "outputs": [
    {
     "name": "stderr",
     "output_type": "stream",
     "text": [
      "/data/user/adipilat/anaconda3/lib/python3.6/site-packages/matplotlib/figure.py:459: UserWarning: matplotlib is currently using a non-GUI backend, so cannot show the figure\n",
      "  \"matplotlib is currently using a non-GUI backend, \"\n"
     ]
    },
    {
     "data": {
      "image/png": "[encoded data removed]",
      "text/plain": [
       "<Figure size 432x288 with 1 Axes>"
      ]
     },
     "metadata": {},
     "output_type": "display_data"
    }
   ],
   "source": [
    "fig6 = plt.figure(6)\n",
    "plt.plot(n_epochs, train_loss, '-b', label='Training')\n",
    "plt.plot(n_epochs, val_loss, '-r', label='Validation')\n",
    "plt.title('Model loss function', y=1.04)\n",
    "plt.grid(linestyle=':')\n",
    "plt.xlabel('Epoch', labelpad=8, fontsize=14)\n",
    "plt.ylabel('Loss', labelpad=10, fontsize=14)\n",
    "plt.legend(loc='upper right')\n",
    "fig6.show()"
   ]
  },
  {
   "cell_type": "code",
   "execution_count": 14,
   "metadata": {},
   "outputs": [
    {
     "name": "stderr",
     "output_type": "stream",
     "text": [
      "/data/user/adipilat/anaconda3/lib/python3.6/site-packages/matplotlib/figure.py:459: UserWarning: matplotlib is currently using a non-GUI backend, so cannot show the figure\n",
      "  \"matplotlib is currently using a non-GUI backend, \"\n"
     ]
    },
    {
     "data": {
      "image/png": "[encoded data removed]",
      "text/plain": [
       "<Figure size 432x288 with 1 Axes>"
      ]
     },
     "metadata": {},
     "output_type": "display_data"
    }
   ],
   "source": [
    "fig7 = plt.figure(7)\n",
    "plt.plot(n_epochs, train_loss, '-g', label='Total')\n",
    "plt.plot(n_epochs, train_pid_loss, '-b', label='PID')\n",
    "plt.plot(n_epochs, train_en_loss, '-r', label='ER')\n",
    "\n",
    "\n",
    "plt.title('Model training loss functions', y=1.04)\n",
    "plt.grid(linestyle=':')\n",
    "plt.xlabel('Epoch', labelpad=8, fontsize=14)\n",
    "plt.ylabel('Loss', labelpad=10, fontsize=14)\n",
    "plt.legend(loc='upper right')\n",
    "fig7.show()"
   ]
  },
  {
   "cell_type": "code",
   "execution_count": 15,
   "metadata": {},
   "outputs": [
    {
     "name": "stderr",
     "output_type": "stream",
     "text": [
      "/data/user/adipilat/anaconda3/lib/python3.6/site-packages/matplotlib/figure.py:459: UserWarning: matplotlib is currently using a non-GUI backend, so cannot show the figure\n",
      "  \"matplotlib is currently using a non-GUI backend, \"\n"
     ]
    },
    {
     "data": {
      "image/png": "[encoded data removed]",
      "text/plain": [
       "<Figure size 432x288 with 1 Axes>"
      ]
     },
     "metadata": {},
     "output_type": "display_data"
    }
   ],
   "source": [
    "fig8 = plt.figure(8)\n",
    "plt.plot(n_epochs, val_loss, '-g', label='Total')\n",
    "plt.plot(n_epochs, val_pid_loss, '-b', label='PID')\n",
    "plt.plot(n_epochs, val_en_loss, '-r', label='ER')\n",
    "\n",
    "\n",
    "plt.title('Model validation loss functions', y=1.04)\n",
    "plt.grid(linestyle=':')\n",
    "plt.xlabel('Epoch', labelpad=8, fontsize=14)\n",
    "plt.ylabel('Loss', labelpad=10, fontsize=14)\n",
    "plt.legend(loc='upper right')\n",
    "fig8.show()"
   ]
  },
  {
   "cell_type": "code",
   "execution_count": null,
   "metadata": {},
   "outputs": [],
   "source": []
  },
  {
   "cell_type": "code",
   "execution_count": null,
   "metadata": {},
   "outputs": [],
   "source": []
  },
  {
   "cell_type": "code",
   "execution_count": null,
   "metadata": {},
   "outputs": [],
   "source": []
  }
 ],
 "metadata": {
  "kernelspec": {
   "display_name": "Python 3",
   "language": "python",
   "name": "python3"
  },
  "language_info": {
   "codemirror_mode": {
    "name": "ipython",
    "version": 3
   },
   "file_extension": ".py",
   "mimetype": "text/x-python",
   "name": "python",
   "nbconvert_exporter": "python",
   "pygments_lexer": "ipython3",
   "version": "3.6.5"
  }
 },
 "nbformat": 4,
 "nbformat_minor": 2
}
