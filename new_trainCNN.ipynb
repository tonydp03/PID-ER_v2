{
 "cells": [
  {
   "cell_type": "code",
   "execution_count": 140,
   "metadata": {},
   "outputs": [],
   "source": [
    "import sys\n",
    "import tensorflow as tf\n",
    "import keras\n",
    "from keras.models import Model\n",
    "from keras.callbacks import EarlyStopping\n",
    "from keras.layers import Input, Conv2D, MaxPooling2D, Flatten, Dense, Dropout, BatchNormalization, Concatenate\n",
    "from keras import optimizers\n",
    "import os\n",
    "import numpy as np\n",
    "import pandas as pd\n",
    "import matplotlib.pyplot as plt\n",
    "\n",
    "\n",
    "from keras import backend as K\n",
    "from tqdm import tqdm\n",
    "\n",
    "\n",
    "# reserve only the 30% of the GPU memory\n",
    "from keras.backend.tensorflow_backend import set_session\n",
    "config = tf.ConfigProto()\n",
    "config.gpu_options.per_process_gpu_memory_fraction = 0.3\n",
    "set_session(tf.Session(config=config))"
   ]
  },
  {
   "cell_type": "code",
   "execution_count": 141,
   "metadata": {},
   "outputs": [],
   "source": [
    "batch_size = 512\n",
    "width = 50\n",
    "height = 10\n",
    "channels = 3\n",
    "classes = 4\n",
    "epochs = 100\n",
    "dataset_dir = '/data/user/adipilat/ParticleID/genEvts/new_datasets/padded/'\n",
    "save_dir = '/data/user/adipilat/ParticleID/models/'\n",
    "padding = 'padding' + str(height)\n",
    "model_name= padding +'_newModel'\n",
    "history_name = model_name + '_history'\n",
    "\n",
    "# This dictionary should be extended to new classes and antiparticles\n",
    "class_labels = {22:0, 11:1, 13:2, 211:3}"
   ]
  },
  {
   "cell_type": "code",
   "execution_count": 155,
   "metadata": {},
   "outputs": [
    {
     "name": "stderr",
     "output_type": "stream",
     "text": [
      "\r",
      "  0%|          | 0/4 [00:00<?, ?it/s]"
     ]
    },
    {
     "name": "stdout",
     "output_type": "stream",
     "text": [
      "Reading file pion_c_newPadded.h5\n"
     ]
    },
    {
     "name": "stderr",
     "output_type": "stream",
     "text": [
      "\r",
      " 25%|██▌       | 1/4 [01:22<04:08, 82.98s/it]"
     ]
    },
    {
     "name": "stdout",
     "output_type": "stream",
     "text": [
      "Reading file gamma_newPadded.h5\n"
     ]
    },
    {
     "name": "stderr",
     "output_type": "stream",
     "text": [
      "\r",
      " 50%|█████     | 2/4 [03:37<03:16, 98.41s/it]"
     ]
    },
    {
     "name": "stdout",
     "output_type": "stream",
     "text": [
      "Reading file electron_newPadded.h5\n"
     ]
    },
    {
     "name": "stderr",
     "output_type": "stream",
     "text": [
      "\r",
      " 75%|███████▌  | 3/4 [05:52<01:49, 109.54s/it]"
     ]
    },
    {
     "name": "stdout",
     "output_type": "stream",
     "text": [
      "Reading file muon_newPadded.h5\n"
     ]
    },
    {
     "name": "stderr",
     "output_type": "stream",
     "text": [
      "100%|██████████| 4/4 [06:59<00:00, 96.80s/it] \n"
     ]
    }
   ],
   "source": [
    "# arrays of data needed for training\n",
    "\n",
    "data_array = []\n",
    "pid_array = []\n",
    "en_array = []\n",
    "\n",
    "# read dataset\n",
    "files = [f for f in os.listdir(dataset_dir) if f.endswith(\"h5\")]\n",
    "\n",
    "for name in tqdm(files):\n",
    "    print(\"Reading file\", name)\n",
    "    data = pd.read_hdf(dataset_dir + name)\n",
    "    num_tracks = data.trackster.max()\n",
    "    for i in range(1, num_tracks+1):\n",
    "        track = data[data['trackster'] == i]\n",
    "        img = np.array([track.E.values, track.eta.values, track.phi.values]).T.reshape(width, height, channels)\n",
    "        pid = int(track[track['pid'] != 0].pid.max())\n",
    "        pid = class_labels[pid]\n",
    "        en_value = track[track['genE'] != 0].genE.max()\n",
    "        data_array.append(image)\n",
    "        pid_array.append(pid)\n",
    "        en_array.append(en_value)\n",
    "\n",
    "data_array = np.array(data_array)\n",
    "pid_array = np.array(pid_array)\n",
    "pid_array = keras.utils.to_categorical(pid_array, num_classes=classes, dtype='float32')\n",
    "en_array = np.array(en_array)"
   ]
  },
  {
   "cell_type": "code",
   "execution_count": 154,
   "metadata": {},
   "outputs": [
    {
     "name": "stdout",
     "output_type": "stream",
     "text": [
      "(16292, 50, 10, 3)\n",
      "(16292, 4)\n",
      "(16292,)\n"
     ]
    }
   ],
   "source": [
    "print(data_array.shape)\n",
    "print(pid_array.shape)\n",
    "print(en_array.shape)"
   ]
  },
  {
   "cell_type": "code",
   "execution_count": 153,
   "metadata": {},
   "outputs": [
    {
     "data": {
      "text/plain": [
       "<matplotlib.image.AxesImage at 0x7f73a2954518>"
      ]
     },
     "execution_count": 153,
     "metadata": {},
     "output_type": "execute_result"
    },
    {
     "data": {
      "image/png": "[encoded data removed]",
      "text/plain": [
       "<Figure size 432x288 with 1 Axes>"
      ]
     },
     "metadata": {},
     "output_type": "display_data"
    }
   ],
   "source": [
    "test_img = data_array[0,:,:,:]\n",
    "plt.imshow(test_img[:,:,0], cmap = 'Blues')"
   ]
  },
  {
   "cell_type": "code",
   "execution_count": null,
   "metadata": {},
   "outputs": [],
   "source": []
  }
 ],
 "metadata": {
  "kernelspec": {
   "display_name": "Python 3",
   "language": "python",
   "name": "python3"
  },
  "language_info": {
   "codemirror_mode": {
    "name": "ipython",
    "version": 3
   },
   "file_extension": ".py",
   "mimetype": "text/x-python",
   "name": "python",
   "nbconvert_exporter": "python",
   "pygments_lexer": "ipython3",
   "version": "3.6.5"
  }
 },
 "nbformat": 4,
 "nbformat_minor": 2
}
