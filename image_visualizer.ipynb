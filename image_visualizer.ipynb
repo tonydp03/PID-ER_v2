{
 "cells": [
  {
   "cell_type": "code",
   "execution_count": 15,
   "metadata": {},
   "outputs": [],
   "source": [
    "import sys\n",
    "import os\n",
    "import numpy as np\n",
    "import pandas as pd\n",
    "import matplotlib.pyplot as plt"
   ]
  },
  {
   "cell_type": "code",
   "execution_count": 16,
   "metadata": {},
   "outputs": [],
   "source": [
    "width = 50\n",
    "height = 10\n",
    "channels = 4 #3\n",
    "classes = 4\n",
    "dataset_dir = '/data/user/adipilat/ParticleID/genEvts/new_datasets/padded/'\n",
    "sample_dir = '/data/user/adipilat/ParticleID/sample_images/'\n",
    "padding = 'padding' + str(height)\n",
    "class_labels = {22:'γ', 11:'e$^{-}$', 13:'μ$^{-}$', 211:'π$^{+}$'}"
   ]
  },
  {
   "cell_type": "code",
   "execution_count": 17,
   "metadata": {},
   "outputs": [],
   "source": [
    "name = 'gamma_newPadded.h5'\n",
    "data = pd.read_hdf(dataset_dir + name)"
   ]
  },
  {
   "cell_type": "code",
   "execution_count": 18,
   "metadata": {},
   "outputs": [],
   "source": [
    "num = 2\n",
    "track = data[data['trackster'] == num]\n",
    "# img = np.array([track.E.values, track.eta.values, track.phi.values]).T.reshape(width, height, channels)\n",
    "img = np.array([track.E.values, track.x_pca.values, track.y_pca.values, track.z_pca.values]).T.reshape(width, height, channels)\n",
    "pid_vals, pid_counts = np.unique(track[track['cpID'] != 0].cpID, return_counts=True)\n",
    "pid_index = np.argmax(pid_counts)\n",
    "pid = int(pid_vals[pid_index])\n",
    "pid = class_labels[pid]\n",
    "en = track[track['genE'] != 0].genE.max()"
   ]
  },
  {
   "cell_type": "code",
   "execution_count": 22,
   "metadata": {},
   "outputs": [
    {
     "data": {
      "text/plain": [
       "Text(0.5,1,'γ (E = 367.57 GeV)')"
      ]
     },
     "execution_count": 22,
     "metadata": {},
     "output_type": "execute_result"
    },
    {
     "data": {
      "image/png": "[encoded data removed]",
      "text/plain": [
       "<Figure size 432x288 with 2 Axes>"
      ]
     },
     "metadata": {},
     "output_type": "display_data"
    }
   ],
   "source": [
    "sample = img[:,:,0]\n",
    "cmap = plt.cm.YlOrRd_r\n",
    "sample = np.ma.masked_where(sample == 0, sample)\n",
    "cmap.set_bad(color='black')\n",
    "plt.imshow(sample.T, cmap=cmap)\n",
    "plt.colorbar(label=\"Energy (GeV)\")\n",
    "# print(en)\n",
    "# print(pid)\n",
    "plot_title = pid + ' (E = ' + str('%.2f'%en) + ' GeV)'\n",
    "# print(plot_title)\n",
    "plt.title(plot_title)\n",
    "# plt.savefig(sample_dir + padding + '_' + str(num) + '.pdf', format='pdf')"
   ]
  },
  {
   "cell_type": "code",
   "execution_count": 23,
   "metadata": {},
   "outputs": [
    {
     "name": "stdout",
     "output_type": "stream",
     "text": [
      "[[[  0.           0.           0.           0.        ]\n",
      "  [  0.           0.           0.           0.        ]\n",
      "  [  0.           0.           0.           0.        ]\n",
      "  ...\n",
      "  [  0.           0.           0.           0.        ]\n",
      "  [  0.           0.           0.           0.        ]\n",
      "  [  0.           0.           0.           0.        ]]\n",
      "\n",
      " [[  1.06393254 -24.22050476   0.92727766   1.68936143]\n",
      "  [  0.04049915 -24.06745162  -1.33536102   0.89796999]\n",
      "  [  0.           0.           0.           0.        ]\n",
      "  ...\n",
      "  [  0.           0.           0.           0.        ]\n",
      "  [  0.           0.           0.           0.        ]\n",
      "  [  0.           0.           0.           0.        ]]\n",
      "\n",
      " [[  2.94628119 -22.12056383   1.07177323   1.80497685]\n",
      "  [  0.06440029 -22.34131955  -0.49892025  -0.2206281 ]\n",
      "  [  0.           0.           0.           0.        ]\n",
      "  ...\n",
      "  [  0.           0.           0.           0.        ]\n",
      "  [  0.           0.           0.           0.        ]\n",
      "  [  0.           0.           0.           0.        ]]\n",
      "\n",
      " ...\n",
      "\n",
      " [[  0.           0.           0.           0.        ]\n",
      "  [  0.           0.           0.           0.        ]\n",
      "  [  0.           0.           0.           0.        ]\n",
      "  ...\n",
      "  [  0.           0.           0.           0.        ]\n",
      "  [  0.           0.           0.           0.        ]\n",
      "  [  0.           0.           0.           0.        ]]\n",
      "\n",
      " [[  0.           0.           0.           0.        ]\n",
      "  [  0.           0.           0.           0.        ]\n",
      "  [  0.           0.           0.           0.        ]\n",
      "  ...\n",
      "  [  0.           0.           0.           0.        ]\n",
      "  [  0.           0.           0.           0.        ]\n",
      "  [  0.           0.           0.           0.        ]]\n",
      "\n",
      " [[  0.           0.           0.           0.        ]\n",
      "  [  0.           0.           0.           0.        ]\n",
      "  [  0.           0.           0.           0.        ]\n",
      "  ...\n",
      "  [  0.           0.           0.           0.        ]\n",
      "  [  0.           0.           0.           0.        ]\n",
      "  [  0.           0.           0.           0.        ]]]\n"
     ]
    }
   ],
   "source": [
    "print(img)"
   ]
  },
  {
   "cell_type": "code",
   "execution_count": null,
   "metadata": {},
   "outputs": [],
   "source": []
  }
 ],
 "metadata": {
  "kernelspec": {
   "display_name": "Python 3",
   "language": "python",
   "name": "python3"
  },
  "language_info": {
   "codemirror_mode": {
    "name": "ipython",
    "version": 3
   },
   "file_extension": ".py",
   "mimetype": "text/x-python",
   "name": "python",
   "nbconvert_exporter": "python",
   "pygments_lexer": "ipython3",
   "version": "3.6.5"
  }
 },
 "nbformat": 4,
 "nbformat_minor": 2
}
