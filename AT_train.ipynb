{
 "cells": [
  {
   "cell_type": "code",
   "execution_count": 1,
   "metadata": {},
   "outputs": [
    {
     "name": "stderr",
     "output_type": "stream",
     "text": [
      "Using TensorFlow backend.\n"
     ]
    }
   ],
   "source": [
    "import sys\n",
    "import tensorflow as tf\n",
    "import keras\n",
    "from keras.models import Model\n",
    "from keras.callbacks import EarlyStopping\n",
    "from keras.layers import Input, Conv2D, MaxPooling2D, Flatten, Reshape, Dense, Dropout, BatchNormalization, Concatenate\n",
    "from keras import optimizers\n",
    "import os\n",
    "import numpy as np\n",
    "import pandas as pd\n",
    "import matplotlib.pyplot as plt\n",
    "\n",
    "\n",
    "from keras import backend as K\n",
    "from tqdm import tqdm\n",
    "\n",
    "\n",
    "# reserve only the 30% of the GPU memory\n",
    "from keras.backend.tensorflow_backend import set_session\n",
    "config = tf.ConfigProto()\n",
    "config.gpu_options.per_process_gpu_memory_fraction = 0.3\n",
    "set_session(tf.Session(config=config))"
   ]
  },
  {
   "cell_type": "code",
   "execution_count": 19,
   "metadata": {},
   "outputs": [],
   "source": [
    "batch_size = 512\n",
    "width = 50\n",
    "height = 10\n",
    "channels = 3\n",
    "classes = 6\n",
    "epochs = 30\n",
    "dataset_dir = '/lustrehome/adipilato/ParticleID/new_datasets/5PartPerEvent/padded/train/'\n",
    "save_dir = '/lustrehome/adipilato/ParticleID/PID-ER_v2/models/'\n",
    "padding = 'padding' + str(height)\n",
    "model_name= padding + '_testTRT'\n",
    "history_name = model_name + '_history'\n",
    "\n",
    "class_labels = {22:0, -11:1, 11:1, -13:2, 13:2, -211:3, 211:3, 311:4, -1:5, -9999:5}"
   ]
  },
  {
   "cell_type": "code",
   "execution_count": 3,
   "metadata": {},
   "outputs": [
    {
     "name": "stderr",
     "output_type": "stream",
     "text": [
      "\r",
      "  0%|          | 0/14 [00:00<?, ?it/s]"
     ]
    },
    {
     "name": "stdout",
     "output_type": "stream",
     "text": [
      "Reading file step4_3_padded.h5\n",
      "297401\n"
     ]
    },
    {
     "name": "stderr",
     "output_type": "stream",
     "text": [
      "\r",
      "  7%|▋         | 1/14 [02:10<28:14, 130.34s/it]"
     ]
    },
    {
     "name": "stdout",
     "output_type": "stream",
     "text": [
      "Reading file step4_7_padded.h5\n",
      "297956\n"
     ]
    },
    {
     "name": "stderr",
     "output_type": "stream",
     "text": [
      "\r",
      " 14%|█▍        | 2/14 [03:13<22:00, 110.04s/it]"
     ]
    },
    {
     "name": "stdout",
     "output_type": "stream",
     "text": [
      "Reading file step4_5_padded.h5\n",
      "298295\n"
     ]
    },
    {
     "name": "stderr",
     "output_type": "stream",
     "text": [
      "\r",
      " 21%|██▏       | 3/14 [05:43<22:22, 122.06s/it]"
     ]
    },
    {
     "name": "stdout",
     "output_type": "stream",
     "text": [
      "Reading file step4_0_padded.h5\n",
      "222589\n"
     ]
    },
    {
     "name": "stderr",
     "output_type": "stream",
     "text": [
      "\r",
      " 29%|██▊       | 4/14 [07:33<19:46, 118.62s/it]"
     ]
    },
    {
     "name": "stdout",
     "output_type": "stream",
     "text": [
      "Reading file step4_12_padded.h5\n",
      "296770\n"
     ]
    },
    {
     "name": "stderr",
     "output_type": "stream",
     "text": [
      "\r",
      " 36%|███▌      | 5/14 [08:32<15:05, 100.57s/it]"
     ]
    },
    {
     "name": "stdout",
     "output_type": "stream",
     "text": [
      "Reading file step4_9_padded.h5\n",
      "297256\n"
     ]
    },
    {
     "name": "stderr",
     "output_type": "stream",
     "text": [
      "\r",
      " 43%|████▎     | 6/14 [10:43<14:38, 109.80s/it]"
     ]
    },
    {
     "name": "stdout",
     "output_type": "stream",
     "text": [
      "Reading file step4_2_padded.h5\n",
      "297826\n"
     ]
    },
    {
     "name": "stderr",
     "output_type": "stream",
     "text": [
      "\r",
      " 50%|█████     | 7/14 [11:46<11:10, 95.85s/it] "
     ]
    },
    {
     "name": "stdout",
     "output_type": "stream",
     "text": [
      "Reading file step4_13_padded.h5\n",
      "298253\n"
     ]
    },
    {
     "name": "stderr",
     "output_type": "stream",
     "text": [
      "\r",
      " 57%|█████▋    | 8/14 [13:52<10:28, 104.80s/it]"
     ]
    },
    {
     "name": "stdout",
     "output_type": "stream",
     "text": [
      "Reading file step4_11_padded.h5\n",
      "297659\n"
     ]
    },
    {
     "name": "stderr",
     "output_type": "stream",
     "text": [
      "\r",
      " 64%|██████▍   | 9/14 [16:21<09:50, 118.08s/it]"
     ]
    },
    {
     "name": "stdout",
     "output_type": "stream",
     "text": [
      "Reading file step4_6_padded.h5\n",
      "297998\n"
     ]
    },
    {
     "name": "stderr",
     "output_type": "stream",
     "text": [
      "\r",
      " 71%|███████▏  | 10/14 [18:36<08:12, 123.18s/it]"
     ]
    },
    {
     "name": "stdout",
     "output_type": "stream",
     "text": [
      "Reading file step4_8_padded.h5\n",
      "297200\n"
     ]
    },
    {
     "name": "stderr",
     "output_type": "stream",
     "text": [
      "\r",
      " 79%|███████▊  | 11/14 [19:45<05:20, 106.88s/it]"
     ]
    },
    {
     "name": "stdout",
     "output_type": "stream",
     "text": [
      "Reading file step4_1_padded.h5\n",
      "180291\n"
     ]
    },
    {
     "name": "stderr",
     "output_type": "stream",
     "text": [
      "\r",
      " 86%|████████▌ | 12/14 [21:14<03:23, 101.61s/it]"
     ]
    },
    {
     "name": "stdout",
     "output_type": "stream",
     "text": [
      "Reading file step4_4_padded.h5\n",
      "298635\n"
     ]
    },
    {
     "name": "stderr",
     "output_type": "stream",
     "text": [
      "\r",
      " 93%|█████████▎| 13/14 [22:14<01:28, 88.98s/it] "
     ]
    },
    {
     "name": "stdout",
     "output_type": "stream",
     "text": [
      "Reading file step4_10_padded.h5\n",
      "297171\n"
     ]
    },
    {
     "name": "stderr",
     "output_type": "stream",
     "text": [
      "100%|██████████| 14/14 [24:24<00:00, 101.42s/it]\n"
     ]
    }
   ],
   "source": [
    "# # arrays of data needed for training\n",
    "\n",
    "# data_list = []\n",
    "# pid_list = []\n",
    "# en_list = []\n",
    "\n",
    "# # read dataset\n",
    "# files = [f for f in os.listdir(dataset_dir) if f.endswith(\"h5\")]\n",
    "\n",
    "# for name in tqdm(files):\n",
    "#     print(\"Reading file\", name)\n",
    "#     data = pd.read_hdf(dataset_dir + name)\n",
    "#     num_tracks = data.trackster.max()\n",
    "#     print(num_tracks)\n",
    "\n",
    "#     tracksters = np.array([data.E.values, data.eta.values, data.phi.values]).T.reshape(-1, width, height, channels)\n",
    "\n",
    "#     pid_vals = np.array([data.pid.values]).T.reshape(-1, width*height)\n",
    "#     select = (np.max(pid_vals,axis=1)==0)\n",
    "#     pid_vals=np.max(np.abs(pid_vals),axis=1)\n",
    "#     pid_vals[select]=pid_vals[select]*-1.0\n",
    "#     pid_vals = pid_vals.tolist()\n",
    "#     pid_arr = [class_labels[x] for x in pid_vals]\n",
    "#     en_vals = np.array([data.genE.values]).T.reshape(-1, width*height)\n",
    "#     en_arr = np.max(en_vals,axis=1)\n",
    "\n",
    "#     data_list.append(tracksters)\n",
    "#     pid_list.append(pid_arr)\n",
    "#     en_list.append(en_arr)"
   ]
  },
  {
   "cell_type": "code",
   "execution_count": 20,
   "metadata": {},
   "outputs": [
    {
     "name": "stdout",
     "output_type": "stream",
     "text": [
      "Reading file step4_10_padded.h5\n",
      "297171\n"
     ]
    }
   ],
   "source": [
    "data_list = []\n",
    "pid_list = []\n",
    "en_list = []\n",
    "\n",
    "name = 'step4_10_padded.h5'\n",
    "print(\"Reading file\", name)\n",
    "data = pd.read_hdf(dataset_dir + name)\n",
    "num_tracks = data.trackster.max()\n",
    "print(num_tracks)\n",
    "\n",
    "tracksters = np.array([data.E.values, data.eta.values, data.phi.values]).T.reshape(-1, width, height, channels)\n",
    "\n",
    "pid_vals = np.array([data.pid.values]).T.reshape(-1, width*height)\n",
    "select = (np.max(pid_vals,axis=1)==0)\n",
    "pid_vals=np.max(np.abs(pid_vals),axis=1)\n",
    "pid_vals[select]=pid_vals[select]*-1.0\n",
    "pid_vals = pid_vals.tolist()\n",
    "pid_arr = [class_labels[x] for x in pid_vals]\n",
    "en_vals = np.array([data.genE.values]).T.reshape(-1, width*height)\n",
    "en_arr = np.max(en_vals,axis=1)\n",
    "\n",
    "data_list.append(tracksters)\n",
    "pid_list.append(pid_arr)\n",
    "en_list.append(en_arr)"
   ]
  },
  {
   "cell_type": "code",
   "execution_count": 21,
   "metadata": {},
   "outputs": [
    {
     "name": "stdout",
     "output_type": "stream",
     "text": [
      "(297171, 50, 10, 3)\n"
     ]
    }
   ],
   "source": [
    "data_array = np.array([item for sublist in data_list for item in sublist])\n",
    "print(data_array.shape)"
   ]
  },
  {
   "cell_type": "code",
   "execution_count": 22,
   "metadata": {},
   "outputs": [
    {
     "name": "stdout",
     "output_type": "stream",
     "text": [
      "(297171, 3, 50, 10)\n"
     ]
    }
   ],
   "source": [
    "data_new = np.transpose(data_array, (0,3,1,2))\n",
    "print(data_new.shape)"
   ]
  },
  {
   "cell_type": "code",
   "execution_count": 23,
   "metadata": {},
   "outputs": [
    {
     "name": "stdout",
     "output_type": "stream",
     "text": [
      "(297171, 6)\n"
     ]
    }
   ],
   "source": [
    "pid_array = np.array([item for sublist in pid_list for item in sublist])\n",
    "pid_array_cat = keras.utils.to_categorical(pid_array, num_classes=classes, dtype='float32')\n",
    "print(pid_array_cat.shape)"
   ]
  },
  {
   "cell_type": "code",
   "execution_count": 24,
   "metadata": {},
   "outputs": [
    {
     "name": "stdout",
     "output_type": "stream",
     "text": [
      "(297171,)\n"
     ]
    }
   ],
   "source": [
    "en_array = np.array([item for sublist in en_list for item in sublist])\n",
    "print(en_array.shape)"
   ]
  },
  {
   "cell_type": "code",
   "execution_count": 25,
   "metadata": {},
   "outputs": [
    {
     "name": "stdout",
     "output_type": "stream",
     "text": [
      "Mean Energy Value: 124.04123038025251\n",
      "Std Energy Value: 149.31865148858864\n"
     ]
    }
   ],
   "source": [
    "mean_en = np.mean(en_array)\n",
    "std_en = np.std(en_array)\n",
    "print('Mean Energy Value: {}'.format(mean_en))\n",
    "print('Std Energy Value: {}'.format(std_en))\n",
    "\n",
    "en_array_norm = (en_array - mean_en)/std_en"
   ]
  },
  {
   "cell_type": "code",
   "execution_count": 16,
   "metadata": {
    "scrolled": true
   },
   "outputs": [
    {
     "name": "stdout",
     "output_type": "stream",
     "text": [
      "Creating model...\n",
      "__________________________________________________________________________________________________\n",
      "Layer (type)                    Output Shape         Param #     Connected to                     \n",
      "==================================================================================================\n",
      "input (InputLayer)              (None, 50, 10, 3)    0                                            \n",
      "__________________________________________________________________________________________________\n",
      "conv1 (Conv2D)                  (None, 50, 10, 16)   256         input[0][0]                      \n",
      "__________________________________________________________________________________________________\n",
      "conv2 (Conv2D)                  (None, 50, 10, 16)   2320        conv1[0][0]                      \n",
      "__________________________________________________________________________________________________\n",
      "conv3 (Conv2D)                  (None, 50, 10, 16)   2320        conv2[0][0]                      \n",
      "__________________________________________________________________________________________________\n",
      "flatten_3 (Flatten)             (None, 8000)         0           conv3[0][0]                      \n",
      "__________________________________________________________________________________________________\n",
      "dense1 (Dense)                  (None, 512)          4096512     flatten_3[0][0]                  \n",
      "__________________________________________________________________________________________________\n",
      "dense2 (Dense)                  (None, 128)          65664       dense1[0][0]                     \n",
      "__________________________________________________________________________________________________\n",
      "dense_id1 (Dense)               (None, 64)           8256        dense2[0][0]                     \n",
      "__________________________________________________________________________________________________\n",
      "dropout_4 (Dropout)             (None, 64)           0           dense_id1[0][0]                  \n",
      "__________________________________________________________________________________________________\n",
      "dense_id2 (Dense)               (None, 16)           1040        dropout_4[0][0]                  \n",
      "__________________________________________________________________________________________________\n",
      "dense_er1 (Dense)               (None, 64)           8256        dense2[0][0]                     \n",
      "__________________________________________________________________________________________________\n",
      "dropout_5 (Dropout)             (None, 16)           0           dense_id2[0][0]                  \n",
      "__________________________________________________________________________________________________\n",
      "dense_er2 (Dense)               (None, 16)           1040        dense_er1[0][0]                  \n",
      "__________________________________________________________________________________________________\n",
      "pid_output (Dense)              (None, 6)            102         dropout_5[0][0]                  \n",
      "__________________________________________________________________________________________________\n",
      "enreg_output (Dense)            (None, 1)            17          dense_er2[0][0]                  \n",
      "==================================================================================================\n",
      "Total params: 4,185,783\n",
      "Trainable params: 4,185,783\n",
      "Non-trainable params: 0\n",
      "__________________________________________________________________________________________________\n",
      "Model created!\n"
     ]
    }
   ],
   "source": [
    "# print('Creating model...')\n",
    "\n",
    "# def full_model():\n",
    "\n",
    "#     input_img = Input(shape=(width, height, channels), name='input')\n",
    "\n",
    "#     conv = Conv2D(16, (5,1), activation='relu', padding='same', kernel_initializer='random_uniform', data_format='channels_last', name='conv1')(input_img)\n",
    "#     conv = Conv2D(16, (3,3), activation='relu', padding='same', kernel_initializer='random_uniform', data_format='channels_last', name='conv2')(conv)\n",
    "#     conv = Conv2D(16, (3,3), activation='relu', padding='same', kernel_initializer='random_uniform', data_format='channels_last', name='conv3')(conv)\n",
    "\n",
    "#     flat = Flatten()(conv)\n",
    "\n",
    "#     dense = Dense(512, activation='relu', kernel_initializer='random_uniform', name='dense1')(flat)\n",
    "#     dense = Dense(128, activation='relu', kernel_initializer='random_uniform', name='dense2')(dense)\n",
    "\n",
    "#     dense_id = Dense(64, activation='relu', kernel_initializer='random_uniform', name='dense_id1')(dense)\n",
    "#     drop_id = Dropout(0.5)(dense_id)\n",
    "#     dense_id = Dense(16, activation='relu', kernel_initializer='random_uniform', name='dense_id2')(drop_id)\n",
    "#     drop_id = Dropout(0.5)(dense_id)\n",
    "\n",
    "#     pid = Dense(classes, activation='softmax', kernel_initializer='random_uniform', name='pid_output')(drop_id)\n",
    "\n",
    "#     dense_er = Dense(64, activation='relu', kernel_initializer='random_uniform', name='dense_er1')(dense)\n",
    "#     dense_er = Dense(16, activation='relu', kernel_initializer='random_uniform', name='dense_er2')(dense_er)\n",
    "    \n",
    "#     enreg = Dense(1, name='enreg_output')(dense_er)\n",
    "\n",
    "#     model = Model(inputs=input_img, outputs=[pid, enreg])\n",
    "\n",
    "#     model.compile(loss={'pid_output': 'categorical_crossentropy', 'enreg_output': 'mse'}, loss_weights={'pid_output': 1.2, 'enreg_output': 1}, optimizer='adam', metrics={'pid_output': 'accuracy', 'enreg_output': 'mse'})\n",
    "#     return model\n",
    "\n",
    "# model = full_model()\n",
    "# model.summary()\n",
    "\n",
    "# print(\"Model created!\")"
   ]
  },
  {
   "cell_type": "code",
   "execution_count": 26,
   "metadata": {},
   "outputs": [
    {
     "name": "stdout",
     "output_type": "stream",
     "text": [
      "Creating model...\n",
      "__________________________________________________________________________________________________\n",
      "Layer (type)                    Output Shape         Param #     Connected to                     \n",
      "==================================================================================================\n",
      "input (InputLayer)              (None, 3, 50, 10)    0                                            \n",
      "__________________________________________________________________________________________________\n",
      "conv1 (Conv2D)                  (None, 16, 50, 10)   256         input[0][0]                      \n",
      "__________________________________________________________________________________________________\n",
      "conv2 (Conv2D)                  (None, 16, 50, 10)   2320        conv1[0][0]                      \n",
      "__________________________________________________________________________________________________\n",
      "conv3 (Conv2D)                  (None, 16, 50, 10)   2320        conv2[0][0]                      \n",
      "__________________________________________________________________________________________________\n",
      "reshape_3 (Reshape)             (None, 8000)         0           conv3[0][0]                      \n",
      "__________________________________________________________________________________________________\n",
      "dense1 (Dense)                  (None, 512)          4096512     reshape_3[0][0]                  \n",
      "__________________________________________________________________________________________________\n",
      "dense2 (Dense)                  (None, 128)          65664       dense1[0][0]                     \n",
      "__________________________________________________________________________________________________\n",
      "dense_id1 (Dense)               (None, 64)           8256        dense2[0][0]                     \n",
      "__________________________________________________________________________________________________\n",
      "dense_er1 (Dense)               (None, 64)           8256        dense2[0][0]                     \n",
      "__________________________________________________________________________________________________\n",
      "dense_id2 (Dense)               (None, 16)           1040        dense_id1[0][0]                  \n",
      "__________________________________________________________________________________________________\n",
      "dense_er2 (Dense)               (None, 16)           1040        dense_er1[0][0]                  \n",
      "__________________________________________________________________________________________________\n",
      "pid_output (Dense)              (None, 6)            102         dense_id2[0][0]                  \n",
      "__________________________________________________________________________________________________\n",
      "enreg_output (Dense)            (None, 1)            17          dense_er2[0][0]                  \n",
      "==================================================================================================\n",
      "Total params: 4,185,783\n",
      "Trainable params: 4,185,783\n",
      "Non-trainable params: 0\n",
      "__________________________________________________________________________________________________\n",
      "Model created!\n"
     ]
    }
   ],
   "source": [
    "print('Creating model...')\n",
    "\n",
    "def full_model():\n",
    "\n",
    "#     input_img = Input(shape=(width, height, channels), name='input')\n",
    "\n",
    "#     conv = Conv2D(16, (5,1), activation='relu', padding='same', kernel_initializer='random_uniform', data_format='channels_last', name='conv1')(input_img)\n",
    "#     conv = Conv2D(16, (3,3), activation='relu', padding='same', kernel_initializer='random_uniform', data_format='channels_last', name='conv2')(conv)\n",
    "#     conv = Conv2D(16, (3,3), activation='relu', padding='same', kernel_initializer='random_uniform', data_format='channels_last', name='conv3')(conv)\n",
    "\n",
    "    input_img = Input(shape=(channels, width, height), name='input')\n",
    "\n",
    "    conv = Conv2D(16, (5,1), activation='relu', padding='same', data_format='channels_first', name='conv1')(input_img)\n",
    "    conv = Conv2D(16, (3,3), activation='relu', padding='same', data_format='channels_first', name='conv2')(conv)\n",
    "    conv = Conv2D(16, (3,3), activation='relu', padding='same', data_format='channels_first', name='conv3')(conv)\n",
    "\n",
    "\n",
    "    flat = Reshape((-1,))(conv)\n",
    "\n",
    "    dense = Dense(512, activation='relu', kernel_initializer='random_uniform', name='dense1')(flat)\n",
    "    dense = Dense(128, activation='relu', kernel_initializer='random_uniform', name='dense2')(dense)\n",
    "\n",
    "    dense_id = Dense(64, activation='relu', kernel_initializer='random_uniform', name='dense_id1')(dense)\n",
    "#     drop_id = Dropout(0.5)(dense_id)\n",
    "    dense_id = Dense(16, activation='relu', kernel_initializer='random_uniform', name='dense_id2')(dense_id)\n",
    "#     drop_id = Dropout(0.5)(dense_id)\n",
    "\n",
    "    pid = Dense(classes, activation='softmax', kernel_initializer='random_uniform', name='pid_output')(dense_id)\n",
    "\n",
    "    dense_er = Dense(64, activation='relu', kernel_initializer='random_uniform', name='dense_er1')(dense)\n",
    "    dense_er = Dense(16, activation='relu', kernel_initializer='random_uniform', name='dense_er2')(dense_er)\n",
    "    \n",
    "    enreg = Dense(1, name='enreg_output')(dense_er)\n",
    "\n",
    "    model = Model(inputs=input_img, outputs=[pid, enreg])\n",
    "\n",
    "    model.compile(loss={'pid_output': 'categorical_crossentropy', 'enreg_output': 'mse'}, loss_weights={'pid_output': 1.2, 'enreg_output': 1}, optimizer='adam', metrics={'pid_output': 'accuracy', 'enreg_output': 'mse'})\n",
    "    return model\n",
    "\n",
    "model = full_model()\n",
    "model.summary()\n",
    "\n",
    "print(\"Model created!\")"
   ]
  },
  {
   "cell_type": "code",
   "execution_count": 27,
   "metadata": {},
   "outputs": [
    {
     "name": "stdout",
     "output_type": "stream",
     "text": [
      "Train on 267453 samples, validate on 29718 samples\n",
      "Epoch 1/30\n",
      "267453/267453 [==============================] - 28s 103us/step - loss: 1.0816 - pid_output_loss: 0.5747 - enreg_output_loss: 0.3920 - pid_output_acc: 0.7301 - enreg_output_mean_squared_error: 0.3920 - val_loss: 0.9728 - val_pid_output_loss: 0.4849 - val_enreg_output_loss: 0.3909 - val_pid_output_acc: 0.7466 - val_enreg_output_mean_squared_error: 0.3909\n",
      "Epoch 2/30\n",
      "267453/267453 [==============================] - 25s 95us/step - loss: 0.9451 - pid_output_loss: 0.4695 - enreg_output_loss: 0.3816 - pid_output_acc: 0.7570 - enreg_output_mean_squared_error: 0.3816 - val_loss: 0.9588 - val_pid_output_loss: 0.4728 - val_enreg_output_loss: 0.3915 - val_pid_output_acc: 0.7559 - val_enreg_output_mean_squared_error: 0.3915\n",
      "Epoch 3/30\n",
      "267453/267453 [==============================] - 26s 96us/step - loss: 0.9270 - pid_output_loss: 0.4555 - enreg_output_loss: 0.3803 - pid_output_acc: 0.7658 - enreg_output_mean_squared_error: 0.3803 - val_loss: 0.9447 - val_pid_output_loss: 0.4655 - val_enreg_output_loss: 0.3860 - val_pid_output_acc: 0.7617 - val_enreg_output_mean_squared_error: 0.3860\n",
      "Epoch 4/30\n",
      "267453/267453 [==============================] - 26s 95us/step - loss: 0.9104 - pid_output_loss: 0.4424 - enreg_output_loss: 0.3795 - pid_output_acc: 0.7783 - enreg_output_mean_squared_error: 0.3795 - val_loss: 0.9522 - val_pid_output_loss: 0.4695 - val_enreg_output_loss: 0.3888 - val_pid_output_acc: 0.7682 - val_enreg_output_mean_squared_error: 0.3888\n",
      "Epoch 5/30\n",
      "267453/267453 [==============================] - 26s 95us/step - loss: 0.8904 - pid_output_loss: 0.4262 - enreg_output_loss: 0.3790 - pid_output_acc: 0.7905 - enreg_output_mean_squared_error: 0.3790 - val_loss: 0.9483 - val_pid_output_loss: 0.4684 - val_enreg_output_loss: 0.3862 - val_pid_output_acc: 0.7714 - val_enreg_output_mean_squared_error: 0.3862\n",
      "Epoch 6/30\n",
      "267453/267453 [==============================] - 25s 95us/step - loss: 0.8618 - pid_output_loss: 0.4027 - enreg_output_loss: 0.3785 - pid_output_acc: 0.8074 - enreg_output_mean_squared_error: 0.3785 - val_loss: 0.9850 - val_pid_output_loss: 0.4993 - val_enreg_output_loss: 0.3859 - val_pid_output_acc: 0.7656 - val_enreg_output_mean_squared_error: 0.3859\n",
      "Epoch 7/30\n",
      "267453/267453 [==============================] - 25s 95us/step - loss: 0.8139 - pid_output_loss: 0.3639 - enreg_output_loss: 0.3772 - pid_output_acc: 0.8297 - enreg_output_mean_squared_error: 0.3772 - val_loss: 1.0373 - val_pid_output_loss: 0.5393 - val_enreg_output_loss: 0.3901 - val_pid_output_acc: 0.7591 - val_enreg_output_mean_squared_error: 0.3901\n",
      "Epoch 8/30\n",
      "267453/267453 [==============================] - 25s 95us/step - loss: 0.7405 - pid_output_loss: 0.3046 - enreg_output_loss: 0.3750 - pid_output_acc: 0.8625 - enreg_output_mean_squared_error: 0.3750 - val_loss: 1.1758 - val_pid_output_loss: 0.6547 - val_enreg_output_loss: 0.3901 - val_pid_output_acc: 0.7542 - val_enreg_output_mean_squared_error: 0.3901\n",
      "Restoring model weights from the end of the best epoch\n",
      "Epoch 00008: early stopping\n"
     ]
    }
   ],
   "source": [
    "history = model.fit(data_new, {'pid_output': pid_array_cat, 'enreg_output': en_array_norm}, batch_size=batch_size, epochs=epochs, validation_split=0.1, callbacks=[EarlyStopping(monitor='val_loss', patience=5, verbose=1, restore_best_weights=True)], shuffle=True, verbose=1)\n",
    "history_save = pd.DataFrame(history.history).to_hdf(save_dir + history_name + \".h5\", \"history\", append=False)"
   ]
  },
  {
   "cell_type": "code",
   "execution_count": 28,
   "metadata": {},
   "outputs": [
    {
     "name": "stdout",
     "output_type": "stream",
     "text": [
      "Saved trained model at /lustrehome/adipilato/ParticleID/PID-ER_v2/models/ \n"
     ]
    }
   ],
   "source": [
    "# Save model and weights\n",
    "model.save(save_dir + model_name + \".h5\")\n",
    "print('Saved trained model at %s ' % save_dir)"
   ]
  },
  {
   "cell_type": "code",
   "execution_count": 29,
   "metadata": {},
   "outputs": [
    {
     "name": "stdout",
     "output_type": "stream",
     "text": [
      "INFO:tensorflow:Froze 279 variables.\n",
      "INFO:tensorflow:Converted 279 variables to const ops.\n",
      "Model saved\n"
     ]
    }
   ],
   "source": [
    "# save the frozen model\n",
    "def freeze_session(session, keep_var_names=None, output_names=None, clear_devices=True):\n",
    "    from tensorflow.python.framework.graph_util import convert_variables_to_constants\n",
    "    graph = session.graph\n",
    "    with graph.as_default():\n",
    "        freeze_var_names = list(set(v.op.name for v in tf.global_variables()).difference(keep_var_names or []))\n",
    "        output_names = output_names or []\n",
    "        output_names += [v.op.name for v in tf.global_variables()]\n",
    "        input_graph_def = graph.as_graph_def()\n",
    "        if clear_devices:\n",
    "            for node in input_graph_def.node:\n",
    "                node.device = \"\"\n",
    "        frozen_graph = convert_variables_to_constants(session, input_graph_def,\n",
    "                                                      output_names, freeze_var_names)\n",
    "        return frozen_graph\n",
    "\n",
    "frozen_graph = freeze_session(K.get_session(),\n",
    "                              output_names=[out.op.name for out in model.outputs])\n",
    "tf.train.write_graph(frozen_graph, save_dir, model_name + \".pbtxt\", as_text=True)\n",
    "tf.train.write_graph(frozen_graph, save_dir, model_name + \".pb\", as_text=False)\n",
    "print('Model saved')"
   ]
  },
  {
   "cell_type": "code",
   "execution_count": 30,
   "metadata": {},
   "outputs": [
    {
     "name": "stdout",
     "output_type": "stream",
     "text": [
      "Done!\n"
     ]
    }
   ],
   "source": [
    "print(\"Done!\")"
   ]
  },
  {
   "cell_type": "code",
   "execution_count": 15,
   "metadata": {},
   "outputs": [
    {
     "name": "stdout",
     "output_type": "stream",
     "text": [
      "[0 1 2 3 4 5]\n",
      "[ 539297  538846   18173  488513  484131 1906340]\n"
     ]
    }
   ],
   "source": [
    "unique, counts = np.unique(pid_array, return_counts=True)\n",
    "print(unique)\n",
    "print(counts)"
   ]
  },
  {
   "cell_type": "code",
   "execution_count": null,
   "metadata": {},
   "outputs": [],
   "source": []
  }
 ],
 "metadata": {
  "kernelspec": {
   "display_name": "Python 3",
   "language": "python",
   "name": "python3"
  },
  "language_info": {
   "codemirror_mode": {
    "name": "ipython",
    "version": 3
   },
   "file_extension": ".py",
   "mimetype": "text/x-python",
   "name": "python",
   "nbconvert_exporter": "python",
   "pygments_lexer": "ipython3",
   "version": "3.7.1"
  }
 },
 "nbformat": 4,
 "nbformat_minor": 2
}
